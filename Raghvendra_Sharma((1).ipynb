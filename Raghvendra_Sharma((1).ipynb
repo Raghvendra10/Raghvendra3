{
  "nbformat": 4,
  "nbformat_minor": 0,
  "metadata": {
    "colab": {
      "name": "Copy of Raghvendra_Sharma.ipynb",
      "provenance": []
    },
    "kernelspec": {
      "name": "python3",
      "display_name": "Python 3"
    },
    "language_info": {
      "name": "python"
    }
  },
  "cells": [
    {
      "cell_type": "code",
      "metadata": {
        "id": "Oqy54EiriDRU"
      },
      "source": [
        "pip install keras-tuner"
      ],
      "execution_count": null,
      "outputs": []
    },
    {
      "cell_type": "code",
      "metadata": {
        "id": "-VJcsU3JOPFm"
      },
      "source": [
        "import tensorflow as tf\n",
        "from tensorflow import keras\n",
        "import numpy as np"
      ],
      "execution_count": 2,
      "outputs": []
    },
    {
      "cell_type": "code",
      "metadata": {
        "id": "-j09aaNdOsI1"
      },
      "source": [
        "fashion_mnist=keras.datasets.fashion_mnist"
      ],
      "execution_count": 5,
      "outputs": []
    },
    {
      "cell_type": "code",
      "metadata": {
        "id": "hUxLqr88O-Tq"
      },
      "source": [
        "(train_images,train_labels),(test_images,test_labels)=fashion_mnist.load_data()"
      ],
      "execution_count": null,
      "outputs": []
    },
    {
      "cell_type": "code",
      "metadata": {
        "id": "1OFyhwBjP5h4"
      },
      "source": [
        "train_images=train_images/255.0\n",
        "test_images=test_images/255.0"
      ],
      "execution_count": 7,
      "outputs": []
    },
    {
      "cell_type": "code",
      "metadata": {
        "colab": {
          "base_uri": "https://localhost:8080/"
        },
        "id": "tIU5ALkKQfM4",
        "outputId": "f2db095d-f163-442d-de2c-c2f3df7f21ae"
      },
      "source": [
        "train_images[0].shape"
      ],
      "execution_count": null,
      "outputs": [
        {
          "output_type": "execute_result",
          "data": {
            "text/plain": [
              "(28, 28)"
            ]
          },
          "metadata": {
            "tags": []
          },
          "execution_count": 112
        }
      ]
    },
    {
      "cell_type": "code",
      "metadata": {
        "id": "Lqsx8Xk-Qsn-"
      },
      "source": [
        "train_images=train_images.reshape(len(train_images),28,28,1)\n",
        "test_images=test_images.reshape(len(test_images),28,28,1)"
      ],
      "execution_count": 8,
      "outputs": []
    },
    {
      "cell_type": "code",
      "metadata": {
        "id": "b8foxyVIQxHy"
      },
      "source": [
        "def build_model(hp):\n",
        "  model=keras.Sequential([\n",
        "    keras.layers.Conv2D(\n",
        "        filters=hp.Int('conv_1_filter',min_value=32,max_value=128,step=16),\n",
        "        kernel_size=hp.Choice('conv_1_kernel',values=[3,5]),\n",
        "        activation='relu', \n",
        "        input_shape=(28,28,1)\n",
        "        ),\n",
        "        keras.layers.Conv2D(\n",
        "            filters=hp.Int('conv_2_filter',min_value=32,max_value=128,step=16),\n",
        "            kernel_size=hp.Choice('conv_2_kernel',values=[3,5]),\n",
        "            activation='relu'\n",
        "            ),\n",
        "            keras.layers.Flatten(),\n",
        "            keras.layers.Dense(\n",
        "                units=hp.Int('dense_1_units',min_value=32,max_value=128,step=16),\n",
        "                activation='relu'\n",
        "            ),\n",
        "            keras.layers.Dense(10,activation='softmax')#output layer\n",
        "            ]) \n",
        "  model.compile(optimizer=keras.optimizers.Adam(hp.Choice('learning_rate',values=[1e-2,1e-3])),\n",
        "                          loss='sparse_categorical_crossentropy',\n",
        "                          metrics=['accuracy'])\n",
        "  return model\n",
        "\n",
        "  "
      ],
      "execution_count": 9,
      "outputs": []
    },
    {
      "cell_type": "code",
      "metadata": {
        "id": "yfSlkskAU_Hg"
      },
      "source": [
        "from kerastuner import RandomSearch\n",
        "from kerastuner.engine.hyperparameters import HyperParameters"
      ],
      "execution_count": 10,
      "outputs": []
    },
    {
      "cell_type": "code",
      "metadata": {
        "id": "2xfOS6G_cv6_"
      },
      "source": [
        "tuner_search=RandomSearch(build_model,\n",
        "                          objective='val_accuracy',max_trials=5,directory='output',project_name=\"Mnist_Fashion\")"
      ],
      "execution_count": 11,
      "outputs": []
    },
    {
      "cell_type": "code",
      "metadata": {
        "colab": {
          "base_uri": "https://localhost:8080/"
        },
        "id": "ETlOqkaYdShM",
        "outputId": "93551991-eb27-4307-d5e3-9079ee4e16d9"
      },
      "source": [
        "tuner_search.search(train_images,train_labels,epochs=3,validation_split=0.1)"
      ],
      "execution_count": null,
      "outputs": [
        {
          "output_type": "stream",
          "text": [
            "Trial 3 Complete [00h 21m 22s]\n",
            "val_accuracy: 0.8503333330154419\n",
            "\n",
            "Best val_accuracy So Far: 0.9089999794960022\n",
            "Total elapsed time: 01h 33m 08s\n",
            "\n",
            "Search: Running Trial #4\n",
            "\n",
            "Hyperparameter    |Value             |Best Value So Far \n",
            "conv_1_filter     |112               |112               \n",
            "conv_1_kernel     |5                 |3                 \n",
            "conv_2_filter     |48                |112               \n",
            "conv_2_kernel     |5                 |5                 \n",
            "dense_1_units     |96                |96                \n",
            "learning_rate     |0.001             |0.001             \n",
            "\n",
            "Epoch 1/3\n",
            "1688/1688 [==============================] - 496s 293ms/step - loss: 0.4144 - accuracy: 0.8506 - val_loss: 0.3023 - val_accuracy: 0.8858\n",
            "Epoch 2/3\n",
            " 666/1688 [==========>...................] - ETA: 4:52 - loss: 0.2727 - accuracy: 0.8984"
          ],
          "name": "stdout"
        }
      ]
    },
    {
      "cell_type": "code",
      "metadata": {
        "id": "9_IiOrpkdrea"
      },
      "source": [
        "model=tuner_search.get_best_models(num_models=1)[0]"
      ],
      "execution_count": null,
      "outputs": []
    },
    {
      "cell_type": "code",
      "metadata": {
        "id": "vUl057CSd-bi"
      },
      "source": [
        "model.summary()"
      ],
      "execution_count": null,
      "outputs": []
    }
  ]
}